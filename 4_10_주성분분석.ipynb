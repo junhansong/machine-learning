{
  "nbformat": 4,
  "nbformat_minor": 0,
  "metadata": {
    "kernelspec": {
      "display_name": "Python 3",
      "language": "python",
      "name": "python3"
    },
    "language_info": {
      "codemirror_mode": {
        "name": "ipython",
        "version": 3
      },
      "file_extension": ".py",
      "mimetype": "text/x-python",
      "name": "python",
      "nbconvert_exporter": "python",
      "pygments_lexer": "ipython3",
      "version": "3.7.5"
    },
    "colab": {
      "name": "4.10_주성분분석.ipynb",
      "provenance": [],
      "collapsed_sections": []
    }
  },
  "cells": [
    {
      "cell_type": "markdown",
      "metadata": {
        "id": "7Mf7XGSslADv",
        "colab_type": "text"
      },
      "source": [
        "<a href=\"https://colab.research.google.com/github/wikibook/machine-learning/blob/2.0/jupyter_notebook/4.10_주성분분석.ipynb\" target=\"_parent\"><img src=\"https://colab.research.google.com/assets/colab-badge.svg\" alt=\"Open In Colab\"/></a>"
      ]
    },
    {
      "cell_type": "code",
      "metadata": {
        "id": "HBDOMxv9lAD3",
        "colab_type": "code",
        "colab": {}
      },
      "source": [
        "import pandas as pd"
      ],
      "execution_count": 1,
      "outputs": []
    },
    {
      "cell_type": "markdown",
      "metadata": {
        "id": "90yvDgwElAEK",
        "colab_type": "text"
      },
      "source": [
        "# 데이터 획득\n",
        "주성분 분석을 실습하기 위한 데이터를 만들어보겠습니다.\n",
        "사람들의 하루 식습관 데이터를 만든 후, 주성분 분석을 사용하여 데이터를 시각화해보도록 하겠습니다.\n",
        "먼저 칼로리, 아침, 점심, 저녁, 운동 횟수, 그리고 체형이라는 특징을 가진 데이터프레임을 생성합니다."
      ]
    },
    {
      "cell_type": "code",
      "metadata": {
        "id": "TfpRKn5ZlAEP",
        "colab_type": "code",
        "colab": {}
      },
      "source": [
        "df = pd.DataFrame(columns=['calory', 'breakfast', 'lunch', 'dinner', 'exercise', 'body_shape'])"
      ],
      "execution_count": 2,
      "outputs": []
    },
    {
      "cell_type": "markdown",
      "metadata": {
        "id": "echHwHTDlAEm",
        "colab_type": "text"
      },
      "source": [
        "10명의 가공 데이터를 아래처럼 만들도록 하겠습니다."
      ]
    },
    {
      "cell_type": "code",
      "metadata": {
        "id": "FyGlspiFlAEo",
        "colab_type": "code",
        "colab": {}
      },
      "source": [
        "df.loc[0] = [1200, 1, 0, 0, 2, 'Skinny']\n",
        "df.loc[1] = [2800, 1, 1, 1, 1, 'Normal']\n",
        "df.loc[2] = [3500, 2, 2, 1, 0, 'Fat']\n",
        "df.loc[3] = [1400, 0, 1, 0, 3, 'Skinny']\n",
        "df.loc[4] = [5000, 2, 2, 2, 0, 'Fat']\n",
        "df.loc[5] = [1300, 0, 0, 1, 2, 'Skinny']\n",
        "df.loc[6] = [3000, 1, 0, 1, 1, 'Normal']\n",
        "df.loc[7] = [4000, 2, 2, 2, 0, 'Fat']\n",
        "df.loc[8] = [2600, 0, 2, 0, 0, 'Normal']\n",
        "df.loc[9] = [3000, 1, 2, 1, 1, 'Fat']"
      ],
      "execution_count": 3,
      "outputs": []
    },
    {
      "cell_type": "markdown",
      "metadata": {
        "id": "C9pIaAmqlAE8",
        "colab_type": "text"
      },
      "source": [
        "가공 데이터를 확인해보도록 하겠습니다."
      ]
    },
    {
      "cell_type": "code",
      "metadata": {
        "id": "y4OPkNwalAFA",
        "colab_type": "code",
        "colab": {
          "base_uri": "https://localhost:8080/",
          "height": 355
        },
        "outputId": "8a763d2b-5ac4-4cde-dfde-3ddcfec2e423"
      },
      "source": [
        "df.head(10)"
      ],
      "execution_count": 4,
      "outputs": [
        {
          "output_type": "execute_result",
          "data": {
            "text/html": [
              "<div>\n",
              "<style scoped>\n",
              "    .dataframe tbody tr th:only-of-type {\n",
              "        vertical-align: middle;\n",
              "    }\n",
              "\n",
              "    .dataframe tbody tr th {\n",
              "        vertical-align: top;\n",
              "    }\n",
              "\n",
              "    .dataframe thead th {\n",
              "        text-align: right;\n",
              "    }\n",
              "</style>\n",
              "<table border=\"1\" class=\"dataframe\">\n",
              "  <thead>\n",
              "    <tr style=\"text-align: right;\">\n",
              "      <th></th>\n",
              "      <th>calory</th>\n",
              "      <th>breakfast</th>\n",
              "      <th>lunch</th>\n",
              "      <th>dinner</th>\n",
              "      <th>exercise</th>\n",
              "      <th>body_shape</th>\n",
              "    </tr>\n",
              "  </thead>\n",
              "  <tbody>\n",
              "    <tr>\n",
              "      <th>0</th>\n",
              "      <td>1200</td>\n",
              "      <td>1</td>\n",
              "      <td>0</td>\n",
              "      <td>0</td>\n",
              "      <td>2</td>\n",
              "      <td>Skinny</td>\n",
              "    </tr>\n",
              "    <tr>\n",
              "      <th>1</th>\n",
              "      <td>2800</td>\n",
              "      <td>1</td>\n",
              "      <td>1</td>\n",
              "      <td>1</td>\n",
              "      <td>1</td>\n",
              "      <td>Normal</td>\n",
              "    </tr>\n",
              "    <tr>\n",
              "      <th>2</th>\n",
              "      <td>3500</td>\n",
              "      <td>2</td>\n",
              "      <td>2</td>\n",
              "      <td>1</td>\n",
              "      <td>0</td>\n",
              "      <td>Fat</td>\n",
              "    </tr>\n",
              "    <tr>\n",
              "      <th>3</th>\n",
              "      <td>1400</td>\n",
              "      <td>0</td>\n",
              "      <td>1</td>\n",
              "      <td>0</td>\n",
              "      <td>3</td>\n",
              "      <td>Skinny</td>\n",
              "    </tr>\n",
              "    <tr>\n",
              "      <th>4</th>\n",
              "      <td>5000</td>\n",
              "      <td>2</td>\n",
              "      <td>2</td>\n",
              "      <td>2</td>\n",
              "      <td>0</td>\n",
              "      <td>Fat</td>\n",
              "    </tr>\n",
              "    <tr>\n",
              "      <th>5</th>\n",
              "      <td>1300</td>\n",
              "      <td>0</td>\n",
              "      <td>0</td>\n",
              "      <td>1</td>\n",
              "      <td>2</td>\n",
              "      <td>Skinny</td>\n",
              "    </tr>\n",
              "    <tr>\n",
              "      <th>6</th>\n",
              "      <td>3000</td>\n",
              "      <td>1</td>\n",
              "      <td>0</td>\n",
              "      <td>1</td>\n",
              "      <td>1</td>\n",
              "      <td>Normal</td>\n",
              "    </tr>\n",
              "    <tr>\n",
              "      <th>7</th>\n",
              "      <td>4000</td>\n",
              "      <td>2</td>\n",
              "      <td>2</td>\n",
              "      <td>2</td>\n",
              "      <td>0</td>\n",
              "      <td>Fat</td>\n",
              "    </tr>\n",
              "    <tr>\n",
              "      <th>8</th>\n",
              "      <td>2600</td>\n",
              "      <td>0</td>\n",
              "      <td>2</td>\n",
              "      <td>0</td>\n",
              "      <td>0</td>\n",
              "      <td>Normal</td>\n",
              "    </tr>\n",
              "    <tr>\n",
              "      <th>9</th>\n",
              "      <td>3000</td>\n",
              "      <td>1</td>\n",
              "      <td>2</td>\n",
              "      <td>1</td>\n",
              "      <td>1</td>\n",
              "      <td>Fat</td>\n",
              "    </tr>\n",
              "  </tbody>\n",
              "</table>\n",
              "</div>"
            ],
            "text/plain": [
              "  calory breakfast lunch dinner exercise body_shape\n",
              "0   1200         1     0      0        2     Skinny\n",
              "1   2800         1     1      1        1     Normal\n",
              "2   3500         2     2      1        0        Fat\n",
              "3   1400         0     1      0        3     Skinny\n",
              "4   5000         2     2      2        0        Fat\n",
              "5   1300         0     0      1        2     Skinny\n",
              "6   3000         1     0      1        1     Normal\n",
              "7   4000         2     2      2        0        Fat\n",
              "8   2600         0     2      0        0     Normal\n",
              "9   3000         1     2      1        1        Fat"
            ]
          },
          "metadata": {
            "tags": []
          },
          "execution_count": 4
        }
      ]
    },
    {
      "cell_type": "markdown",
      "metadata": {
        "id": "mqQTTc-7lAFc",
        "colab_type": "text"
      },
      "source": [
        "# 데이터 전처리\n",
        "주성분 분석을 위해 데이터 전처리 과정이 필요합니다.  \n",
        "우선 가공 데이터에 데이터의 특징과 클래스가 함께 있으므로,  \n",
        "데이터의 특징만으로만 구성된 X 데이터프레임을 생성합니다."
      ]
    },
    {
      "cell_type": "code",
      "metadata": {
        "id": "iOMeO8OklAFe",
        "colab_type": "code",
        "colab": {}
      },
      "source": [
        "X = df[['calory', 'breakfast', 'lunch', 'dinner', 'exercise']]"
      ],
      "execution_count": 5,
      "outputs": []
    },
    {
      "cell_type": "code",
      "metadata": {
        "id": "h-4-aTRclAFs",
        "colab_type": "code",
        "colab": {
          "base_uri": "https://localhost:8080/",
          "height": 325
        },
        "outputId": "7324cf25-c93c-4345-c8a9-732cd67c40ec"
      },
      "source": [
        "X.head(9)"
      ],
      "execution_count": 6,
      "outputs": [
        {
          "output_type": "execute_result",
          "data": {
            "text/html": [
              "<div>\n",
              "<style scoped>\n",
              "    .dataframe tbody tr th:only-of-type {\n",
              "        vertical-align: middle;\n",
              "    }\n",
              "\n",
              "    .dataframe tbody tr th {\n",
              "        vertical-align: top;\n",
              "    }\n",
              "\n",
              "    .dataframe thead th {\n",
              "        text-align: right;\n",
              "    }\n",
              "</style>\n",
              "<table border=\"1\" class=\"dataframe\">\n",
              "  <thead>\n",
              "    <tr style=\"text-align: right;\">\n",
              "      <th></th>\n",
              "      <th>calory</th>\n",
              "      <th>breakfast</th>\n",
              "      <th>lunch</th>\n",
              "      <th>dinner</th>\n",
              "      <th>exercise</th>\n",
              "    </tr>\n",
              "  </thead>\n",
              "  <tbody>\n",
              "    <tr>\n",
              "      <th>0</th>\n",
              "      <td>1200</td>\n",
              "      <td>1</td>\n",
              "      <td>0</td>\n",
              "      <td>0</td>\n",
              "      <td>2</td>\n",
              "    </tr>\n",
              "    <tr>\n",
              "      <th>1</th>\n",
              "      <td>2800</td>\n",
              "      <td>1</td>\n",
              "      <td>1</td>\n",
              "      <td>1</td>\n",
              "      <td>1</td>\n",
              "    </tr>\n",
              "    <tr>\n",
              "      <th>2</th>\n",
              "      <td>3500</td>\n",
              "      <td>2</td>\n",
              "      <td>2</td>\n",
              "      <td>1</td>\n",
              "      <td>0</td>\n",
              "    </tr>\n",
              "    <tr>\n",
              "      <th>3</th>\n",
              "      <td>1400</td>\n",
              "      <td>0</td>\n",
              "      <td>1</td>\n",
              "      <td>0</td>\n",
              "      <td>3</td>\n",
              "    </tr>\n",
              "    <tr>\n",
              "      <th>4</th>\n",
              "      <td>5000</td>\n",
              "      <td>2</td>\n",
              "      <td>2</td>\n",
              "      <td>2</td>\n",
              "      <td>0</td>\n",
              "    </tr>\n",
              "    <tr>\n",
              "      <th>5</th>\n",
              "      <td>1300</td>\n",
              "      <td>0</td>\n",
              "      <td>0</td>\n",
              "      <td>1</td>\n",
              "      <td>2</td>\n",
              "    </tr>\n",
              "    <tr>\n",
              "      <th>6</th>\n",
              "      <td>3000</td>\n",
              "      <td>1</td>\n",
              "      <td>0</td>\n",
              "      <td>1</td>\n",
              "      <td>1</td>\n",
              "    </tr>\n",
              "    <tr>\n",
              "      <th>7</th>\n",
              "      <td>4000</td>\n",
              "      <td>2</td>\n",
              "      <td>2</td>\n",
              "      <td>2</td>\n",
              "      <td>0</td>\n",
              "    </tr>\n",
              "    <tr>\n",
              "      <th>8</th>\n",
              "      <td>2600</td>\n",
              "      <td>0</td>\n",
              "      <td>2</td>\n",
              "      <td>0</td>\n",
              "      <td>0</td>\n",
              "    </tr>\n",
              "  </tbody>\n",
              "</table>\n",
              "</div>"
            ],
            "text/plain": [
              "  calory breakfast lunch dinner exercise\n",
              "0   1200         1     0      0        2\n",
              "1   2800         1     1      1        1\n",
              "2   3500         2     2      1        0\n",
              "3   1400         0     1      0        3\n",
              "4   5000         2     2      2        0\n",
              "5   1300         0     0      1        2\n",
              "6   3000         1     0      1        1\n",
              "7   4000         2     2      2        0\n",
              "8   2600         0     2      0        0"
            ]
          },
          "metadata": {
            "tags": []
          },
          "execution_count": 6
        }
      ]
    },
    {
      "cell_type": "markdown",
      "metadata": {
        "collapsed": true,
        "id": "qoOvpT4jlAF-",
        "colab_type": "text"
      },
      "source": [
        "body_shape는 데이터 특징들로 구별된 클래스입니다.  \n",
        "Y 데이터프레임을 생성하여 데이터별 클래스를 저장합니다.  \n",
        "body_shape 정보는 추후 차원 축소된 데이터를 시각화할 때,  \n",
        "데이터의 정보가 충분히 유지되었는 지 확인하기 위해 사용합니다."
      ]
    },
    {
      "cell_type": "code",
      "metadata": {
        "id": "KZ06nKzLlAGD",
        "colab_type": "code",
        "colab": {}
      },
      "source": [
        "Y = df[['body_shape']]"
      ],
      "execution_count": 7,
      "outputs": []
    },
    {
      "cell_type": "code",
      "metadata": {
        "id": "ysnqe9mAlAGb",
        "colab_type": "code",
        "colab": {
          "base_uri": "https://localhost:8080/",
          "height": 355
        },
        "outputId": "60fc6992-62e5-477a-ae0b-374d19ef18da"
      },
      "source": [
        "Y.head(10)"
      ],
      "execution_count": 8,
      "outputs": [
        {
          "output_type": "execute_result",
          "data": {
            "text/html": [
              "<div>\n",
              "<style scoped>\n",
              "    .dataframe tbody tr th:only-of-type {\n",
              "        vertical-align: middle;\n",
              "    }\n",
              "\n",
              "    .dataframe tbody tr th {\n",
              "        vertical-align: top;\n",
              "    }\n",
              "\n",
              "    .dataframe thead th {\n",
              "        text-align: right;\n",
              "    }\n",
              "</style>\n",
              "<table border=\"1\" class=\"dataframe\">\n",
              "  <thead>\n",
              "    <tr style=\"text-align: right;\">\n",
              "      <th></th>\n",
              "      <th>body_shape</th>\n",
              "    </tr>\n",
              "  </thead>\n",
              "  <tbody>\n",
              "    <tr>\n",
              "      <th>0</th>\n",
              "      <td>Skinny</td>\n",
              "    </tr>\n",
              "    <tr>\n",
              "      <th>1</th>\n",
              "      <td>Normal</td>\n",
              "    </tr>\n",
              "    <tr>\n",
              "      <th>2</th>\n",
              "      <td>Fat</td>\n",
              "    </tr>\n",
              "    <tr>\n",
              "      <th>3</th>\n",
              "      <td>Skinny</td>\n",
              "    </tr>\n",
              "    <tr>\n",
              "      <th>4</th>\n",
              "      <td>Fat</td>\n",
              "    </tr>\n",
              "    <tr>\n",
              "      <th>5</th>\n",
              "      <td>Skinny</td>\n",
              "    </tr>\n",
              "    <tr>\n",
              "      <th>6</th>\n",
              "      <td>Normal</td>\n",
              "    </tr>\n",
              "    <tr>\n",
              "      <th>7</th>\n",
              "      <td>Fat</td>\n",
              "    </tr>\n",
              "    <tr>\n",
              "      <th>8</th>\n",
              "      <td>Normal</td>\n",
              "    </tr>\n",
              "    <tr>\n",
              "      <th>9</th>\n",
              "      <td>Fat</td>\n",
              "    </tr>\n",
              "  </tbody>\n",
              "</table>\n",
              "</div>"
            ],
            "text/plain": [
              "  body_shape\n",
              "0     Skinny\n",
              "1     Normal\n",
              "2        Fat\n",
              "3     Skinny\n",
              "4        Fat\n",
              "5     Skinny\n",
              "6     Normal\n",
              "7        Fat\n",
              "8     Normal\n",
              "9        Fat"
            ]
          },
          "metadata": {
            "tags": []
          },
          "execution_count": 8
        }
      ]
    },
    {
      "cell_type": "markdown",
      "metadata": {
        "id": "KYdVXUkwlAGr",
        "colab_type": "text"
      },
      "source": [
        "데이터의 특징들이 수치이기는 하지만, 각각의 범위가 다르므로, 범위를 통일시켜줍니다.  \n",
        "데이터를 정규화함으로써, 머신러닝 알고리즘이 범위가 넓은 데이터에 중점을 두는 현상이 줄고,  \n",
        "정확도가 높아집니다."
      ]
    },
    {
      "cell_type": "code",
      "metadata": {
        "id": "FlKz7SLtlAGv",
        "colab_type": "code",
        "colab": {}
      },
      "source": [
        "from sklearn.preprocessing import StandardScaler\n",
        "x_std = StandardScaler().fit_transform(X)"
      ],
      "execution_count": 9,
      "outputs": []
    },
    {
      "cell_type": "code",
      "metadata": {
        "id": "-RR_iWVNlAG-",
        "colab_type": "code",
        "colab": {
          "base_uri": "https://localhost:8080/",
          "height": 204
        },
        "outputId": "14fe8273-6ae8-46b1-a60d-282a977e9a9a"
      },
      "source": [
        "x_std"
      ],
      "execution_count": 10,
      "outputs": [
        {
          "output_type": "execute_result",
          "data": {
            "text/plain": [
              "array([[-1.35205803,  0.        , -1.3764944 , -1.28571429,  1.        ],\n",
              "       [ 0.01711466,  0.        , -0.22941573,  0.14285714,  0.        ],\n",
              "       [ 0.61612771,  1.29099445,  0.91766294,  0.14285714, -1.        ],\n",
              "       [-1.18091145, -1.29099445, -0.22941573, -1.28571429,  2.        ],\n",
              "       [ 1.89972711,  1.29099445,  0.91766294,  1.57142857, -1.        ],\n",
              "       [-1.26648474, -1.29099445, -1.3764944 ,  0.14285714,  1.        ],\n",
              "       [ 0.18826125,  0.        , -1.3764944 ,  0.14285714,  0.        ],\n",
              "       [ 1.04399418,  1.29099445,  0.91766294,  1.57142857, -1.        ],\n",
              "       [-0.15403193, -1.29099445,  0.91766294, -1.28571429, -1.        ],\n",
              "       [ 0.18826125,  0.        ,  0.91766294,  0.14285714,  0.        ]])"
            ]
          },
          "metadata": {
            "tags": []
          },
          "execution_count": 10
        }
      ]
    },
    {
      "cell_type": "markdown",
      "metadata": {
        "id": "WL0_cBf7lAHf",
        "colab_type": "text"
      },
      "source": [
        "# 공분산 행렬 구하기\n",
        "주성분 분석을 하기 위해 가장 먼저 특징들의 공분산 행렬을 구해야합니다.  \n",
        "아래의 코드를 실행하여 간단하게 공분산 행렬을 구할 수 있습니다."
      ]
    },
    {
      "cell_type": "code",
      "metadata": {
        "id": "FobFzh7JlAHj",
        "colab_type": "code",
        "colab": {}
      },
      "source": [
        "import numpy as np"
      ],
      "execution_count": 11,
      "outputs": []
    },
    {
      "cell_type": "code",
      "metadata": {
        "id": "_8gjVLqllAHz",
        "colab_type": "code",
        "colab": {
          "base_uri": "https://localhost:8080/",
          "height": 111
        },
        "outputId": "9796e60b-88e8-4c2f-8bdd-fdb71d0ae1aa"
      },
      "source": [
        "features = x_std.T \n",
        "covariance_matrix = np.cov(features)\n",
        "print(covariance_matrix)"
      ],
      "execution_count": 12,
      "outputs": [
        {
          "output_type": "stream",
          "text": [
            "[[ 1.11111111  0.88379717  0.76782385  0.89376551 -0.93179808]\n",
            " [ 0.88379717  1.11111111  0.49362406  0.81967902 -0.71721914]\n",
            " [ 0.76782385  0.49362406  1.11111111  0.40056715 -0.76471911]\n",
            " [ 0.89376551  0.81967902  0.40056715  1.11111111 -0.63492063]\n",
            " [-0.93179808 -0.71721914 -0.76471911 -0.63492063  1.11111111]]\n"
          ],
          "name": "stdout"
        }
      ]
    },
    {
      "cell_type": "markdown",
      "metadata": {
        "id": "tq_XvrkHlAIA",
        "colab_type": "text"
      },
      "source": [
        "# 고유값과 고유벡터 구하기\n",
        "공분산 행렬에서 고유값(eigen value)과 고유벡터(eigen vector)를 아래의 코드를 실행하여 구할 수 있습니다."
      ]
    },
    {
      "cell_type": "code",
      "metadata": {
        "id": "g1NQyu6ZlAID",
        "colab_type": "code",
        "colab": {}
      },
      "source": [
        "eig_vals, eig_vecs = np.linalg.eig(covariance_matrix)"
      ],
      "execution_count": 13,
      "outputs": []
    },
    {
      "cell_type": "code",
      "metadata": {
        "id": "ib3iNBcNlAIV",
        "colab_type": "code",
        "colab": {
          "base_uri": "https://localhost:8080/",
          "height": 129
        },
        "outputId": "7346e9a1-5fdf-4a10-d89e-113891e2c1fc"
      },
      "source": [
        "print('Eigenvectors \\n%s' %eig_vecs)"
      ],
      "execution_count": 14,
      "outputs": [
        {
          "output_type": "stream",
          "text": [
            "Eigenvectors \n",
            "[[-0.508005   -0.0169937  -0.84711404  0.11637853  0.10244985]\n",
            " [-0.44660335 -0.36890361  0.12808055 -0.63112016 -0.49973822]\n",
            " [-0.38377913  0.70804084  0.20681005 -0.40305226  0.38232213]\n",
            " [-0.42845209 -0.53194699  0.3694462   0.22228235  0.58954327]\n",
            " [ 0.46002038 -0.2816592  -0.29450345 -0.61341895  0.49601841]]\n"
          ],
          "name": "stdout"
        }
      ]
    },
    {
      "cell_type": "code",
      "metadata": {
        "id": "LWxJ3JiBlAIo",
        "colab_type": "code",
        "colab": {
          "base_uri": "https://localhost:8080/",
          "height": 73
        },
        "outputId": "84b59972-a885-4983-c555-0af6e80d97ac"
      },
      "source": [
        "print('\\nEigenvalues \\n%s' %eig_vals)"
      ],
      "execution_count": 15,
      "outputs": [
        {
          "output_type": "stream",
          "text": [
            "\n",
            "Eigenvalues \n",
            "[4.0657343  0.8387565  0.07629538 0.27758568 0.2971837 ]\n"
          ],
          "name": "stdout"
        }
      ]
    },
    {
      "cell_type": "markdown",
      "metadata": {
        "id": "SNBRb_33lAI4",
        "colab_type": "text"
      },
      "source": [
        "아래의 코드를 실행하여 가장 큰 고유벡터의 정보 함유량을 볼 수 있습니다.  "
      ]
    },
    {
      "cell_type": "code",
      "metadata": {
        "id": "SBodW6lYlAI8",
        "colab_type": "code",
        "colab": {
          "base_uri": "https://localhost:8080/",
          "height": 36
        },
        "outputId": "1aaf5022-f0bc-4bc5-ad16-711f67499557"
      },
      "source": [
        "# We reduce dimension to 1 dimension, since 1 eigenvector has 73% (enough) variances\n",
        "eig_vals[0] / sum(eig_vals)"
      ],
      "execution_count": 16,
      "outputs": [
        {
          "output_type": "execute_result",
          "data": {
            "text/plain": [
              "0.7318321731427544"
            ]
          },
          "metadata": {
            "tags": []
          },
          "execution_count": 16
        }
      ]
    },
    {
      "cell_type": "markdown",
      "metadata": {
        "id": "Oabuv9E-lAJR",
        "colab_type": "text"
      },
      "source": [
        "가장 큰 고유 벡터가 73%의 정보를 함유하고 있습니다.  \n",
        "5차원 데이터를 가장 큰 고유 벡터(1차원)로 차원 축소해보겠습니다."
      ]
    },
    {
      "cell_type": "markdown",
      "metadata": {
        "id": "ti6B1CPNlAJT",
        "colab_type": "text"
      },
      "source": [
        "# 5차원 데이터를 고유벡터로 사영시키기\n",
        "5차원 데이터를 가장 큰 고유벡터로 옮겨보도록하겠습니다.  \n",
        "a벡터를 b벡터에 사영할 때 공식 = dot(a,b) / magnitude of b"
      ]
    },
    {
      "cell_type": "code",
      "metadata": {
        "id": "DNG19Eh8lAJW",
        "colab_type": "code",
        "colab": {}
      },
      "source": [
        "projected_X = x_std.dot(eig_vecs.T[0]) / np.linalg.norm(eig_vecs.T[0]) "
      ],
      "execution_count": 18,
      "outputs": []
    },
    {
      "cell_type": "markdown",
      "metadata": {
        "id": "UvfVn73ilAJp",
        "colab_type": "text"
      },
      "source": [
        "1차원 벡터로 사영된 결과를 출력해봅니다."
      ]
    },
    {
      "cell_type": "code",
      "metadata": {
        "id": "KsgVgYlJlAJr",
        "colab_type": "code",
        "colab": {
          "base_uri": "https://localhost:8080/",
          "height": 55
        },
        "outputId": "a475bdbf-07f9-4045-9ce0-9236738cdbc7"
      },
      "source": [
        "projected_X"
      ],
      "execution_count": 19,
      "outputs": [
        {
          "output_type": "execute_result",
          "data": {
            "text/plain": [
              "array([ 2.22600943,  0.0181432 , -1.76296611,  2.73542407, -3.02711544,\n",
              "        2.14702579,  0.37142473, -2.59239883,  0.39347815, -0.50902498])"
            ]
          },
          "metadata": {
            "tags": []
          },
          "execution_count": 19
        }
      ]
    },
    {
      "cell_type": "markdown",
      "metadata": {
        "id": "y-QYamWslAKc",
        "colab_type": "text"
      },
      "source": [
        "# 시각화\n",
        "1차원으로 축소된 데이터를 시각화하기 위해, 팬더스 데이터프레임에 데이터를 담습니다.  \n",
        "주성분(PC1)을 x축으로 하고, 1차원 데이터이므로 y축은 0으로 통일시킵니다.  \n",
        "데이터의 쉬운 이해를 위해 클래스를 데이터 마지막 컬럼에 포함시킵니다."
      ]
    },
    {
      "cell_type": "code",
      "metadata": {
        "id": "3xiQ56KLlAKl",
        "colab_type": "code",
        "colab": {}
      },
      "source": [
        "result = pd.DataFrame(projected_X, columns=['PC1'])\n",
        "result['y-axis'] = 0.0\n",
        "result['label'] = Y"
      ],
      "execution_count": 20,
      "outputs": []
    },
    {
      "cell_type": "markdown",
      "metadata": {
        "id": "2xslJ9UylALA",
        "colab_type": "text"
      },
      "source": [
        "아래 코드를 실행하여 데이터프레임을 확인합니다."
      ]
    },
    {
      "cell_type": "code",
      "metadata": {
        "id": "5i0iyyBxlALG",
        "colab_type": "code",
        "colab": {
          "base_uri": "https://localhost:8080/",
          "height": 355
        },
        "outputId": "a75db9d6-64a2-415e-973f-bd66a50e2bb4"
      },
      "source": [
        "result.head(10)"
      ],
      "execution_count": 21,
      "outputs": [
        {
          "output_type": "execute_result",
          "data": {
            "text/html": [
              "<div>\n",
              "<style scoped>\n",
              "    .dataframe tbody tr th:only-of-type {\n",
              "        vertical-align: middle;\n",
              "    }\n",
              "\n",
              "    .dataframe tbody tr th {\n",
              "        vertical-align: top;\n",
              "    }\n",
              "\n",
              "    .dataframe thead th {\n",
              "        text-align: right;\n",
              "    }\n",
              "</style>\n",
              "<table border=\"1\" class=\"dataframe\">\n",
              "  <thead>\n",
              "    <tr style=\"text-align: right;\">\n",
              "      <th></th>\n",
              "      <th>PC1</th>\n",
              "      <th>y-axis</th>\n",
              "      <th>label</th>\n",
              "    </tr>\n",
              "  </thead>\n",
              "  <tbody>\n",
              "    <tr>\n",
              "      <th>0</th>\n",
              "      <td>2.226009</td>\n",
              "      <td>0.0</td>\n",
              "      <td>Skinny</td>\n",
              "    </tr>\n",
              "    <tr>\n",
              "      <th>1</th>\n",
              "      <td>0.018143</td>\n",
              "      <td>0.0</td>\n",
              "      <td>Normal</td>\n",
              "    </tr>\n",
              "    <tr>\n",
              "      <th>2</th>\n",
              "      <td>-1.762966</td>\n",
              "      <td>0.0</td>\n",
              "      <td>Fat</td>\n",
              "    </tr>\n",
              "    <tr>\n",
              "      <th>3</th>\n",
              "      <td>2.735424</td>\n",
              "      <td>0.0</td>\n",
              "      <td>Skinny</td>\n",
              "    </tr>\n",
              "    <tr>\n",
              "      <th>4</th>\n",
              "      <td>-3.027115</td>\n",
              "      <td>0.0</td>\n",
              "      <td>Fat</td>\n",
              "    </tr>\n",
              "    <tr>\n",
              "      <th>5</th>\n",
              "      <td>2.147026</td>\n",
              "      <td>0.0</td>\n",
              "      <td>Skinny</td>\n",
              "    </tr>\n",
              "    <tr>\n",
              "      <th>6</th>\n",
              "      <td>0.371425</td>\n",
              "      <td>0.0</td>\n",
              "      <td>Normal</td>\n",
              "    </tr>\n",
              "    <tr>\n",
              "      <th>7</th>\n",
              "      <td>-2.592399</td>\n",
              "      <td>0.0</td>\n",
              "      <td>Fat</td>\n",
              "    </tr>\n",
              "    <tr>\n",
              "      <th>8</th>\n",
              "      <td>0.393478</td>\n",
              "      <td>0.0</td>\n",
              "      <td>Normal</td>\n",
              "    </tr>\n",
              "    <tr>\n",
              "      <th>9</th>\n",
              "      <td>-0.509025</td>\n",
              "      <td>0.0</td>\n",
              "      <td>Fat</td>\n",
              "    </tr>\n",
              "  </tbody>\n",
              "</table>\n",
              "</div>"
            ],
            "text/plain": [
              "        PC1  y-axis   label\n",
              "0  2.226009     0.0  Skinny\n",
              "1  0.018143     0.0  Normal\n",
              "2 -1.762966     0.0     Fat\n",
              "3  2.735424     0.0  Skinny\n",
              "4 -3.027115     0.0     Fat\n",
              "5  2.147026     0.0  Skinny\n",
              "6  0.371425     0.0  Normal\n",
              "7 -2.592399     0.0     Fat\n",
              "8  0.393478     0.0  Normal\n",
              "9 -0.509025     0.0     Fat"
            ]
          },
          "metadata": {
            "tags": []
          },
          "execution_count": 21
        }
      ]
    },
    {
      "cell_type": "markdown",
      "metadata": {
        "id": "nO8usVoglALo",
        "colab_type": "text"
      },
      "source": [
        "데이터를 표로 보는 것보다 챠트에서 보는 게 훨씬 이해가 쉽습니다.  \n",
        "아래의 코드를 실행하여 챠트에 차원 축소된 데이터를 시각화해봅니다."
      ]
    },
    {
      "cell_type": "code",
      "metadata": {
        "id": "ipnzIaFVlALt",
        "colab_type": "code",
        "colab": {
          "base_uri": "https://localhost:8080/",
          "height": 75
        },
        "outputId": "13f30ca4-c9c3-4a26-b7bc-20dd15a79c1f"
      },
      "source": [
        "import matplotlib.pyplot as plt\n",
        "import seaborn as sns\n",
        "%matplotlib inline"
      ],
      "execution_count": 22,
      "outputs": [
        {
          "output_type": "stream",
          "text": [
            "/usr/local/lib/python3.6/dist-packages/statsmodels/tools/_testing.py:19: FutureWarning: pandas.util.testing is deprecated. Use the functions in the public API at pandas.testing instead.\n",
            "  import pandas.util.testing as tm\n"
          ],
          "name": "stderr"
        }
      ]
    },
    {
      "cell_type": "code",
      "metadata": {
        "id": "jUKdn64slAMf",
        "colab_type": "code",
        "colab": {
          "base_uri": "https://localhost:8080/",
          "height": 404
        },
        "outputId": "4d0b59d8-ca97-43b2-b290-5d3521d5ce80"
      },
      "source": [
        "sns.lmplot('PC1', 'y-axis', data=result, fit_reg=False,  # x-axis, y-axis, data, no line\n",
        "           scatter_kws={\"s\": 50}, # marker size\n",
        "           hue=\"label\") # color\n",
        "\n",
        "# title\n",
        "plt.title('PCA result')"
      ],
      "execution_count": 23,
      "outputs": [
        {
          "output_type": "execute_result",
          "data": {
            "text/plain": [
              "Text(0.5, 1.0, 'PCA result')"
            ]
          },
          "metadata": {
            "tags": []
          },
          "execution_count": 23
        },
        {
          "output_type": "display_data",
          "data": {
            "image/png": "[encoded data removed]",
            "text/plain": [
              "<Figure size 432.125x360 with 1 Axes>"
            ]
          },
          "metadata": {
            "tags": [],
            "needs_background": "light"
          }
        }
      ]
    },
    {
      "cell_type": "markdown",
      "metadata": {
        "id": "QcDTq_inlAND",
        "colab_type": "text"
      },
      "source": [
        "5차원이었던 데이터를 1차원으로 줄여서 시각화가 가능해졌습니다.  \n",
        "또한 체형별 군집이 잘 형성된 것으로 보아, 차원 축소에도 불구하고 충분한 정보가 유지된 것을,  \n",
        "눈으로 확인 가능합니다."
      ]
    },
    {
      "cell_type": "markdown",
      "metadata": {
        "id": "QysQxzKwlANJ",
        "colab_type": "text"
      },
      "source": [
        "# 보너스 - scikit-learn을 사용한 주성분 분석 구현\n",
        "sklearn을 사용하여 간단하게 주성분 분석(PCA)를 구현할 수 있습니다."
      ]
    },
    {
      "cell_type": "markdown",
      "metadata": {
        "id": "-5YFi5mflANT",
        "colab_type": "text"
      },
      "source": [
        "아래 코드를 실행하여, 1차원으로 데이터를 차원 축소합니다."
      ]
    },
    {
      "cell_type": "code",
      "metadata": {
        "id": "iwKLqbdXlANc",
        "colab_type": "code",
        "colab": {}
      },
      "source": [
        "from sklearn import decomposition\n",
        "pca = decomposition.PCA(n_components=1)\n",
        "sklearn_pca_x = pca.fit_transform(x_std)"
      ],
      "execution_count": 24,
      "outputs": []
    },
    {
      "cell_type": "markdown",
      "metadata": {
        "id": "vm8mo7w5lAOC",
        "colab_type": "text"
      },
      "source": [
        "아래의 코드를 실행하여 시각화합니다.\n",
        "우리가 직접 구현한 코드와 동일한 결과를 확인하실 수 있습니다."
      ]
    },
    {
      "cell_type": "code",
      "metadata": {
        "id": "hXSNUz5NlAOG",
        "colab_type": "code",
        "colab": {
          "base_uri": "https://localhost:8080/",
          "height": 388
        },
        "outputId": "f4b29b85-b421-4eb4-eef7-f5e0c17b06a0"
      },
      "source": [
        "sklearn_result = pd.DataFrame(sklearn_pca_x, columns=['PC1'])\n",
        "sklearn_result['y-axis'] = 0.0\n",
        "sklearn_result['label'] = Y\n",
        "\n",
        "sns.lmplot('PC1', 'y-axis', data=sklearn_result, fit_reg=False,  # x-axis, y-axis, data, no line\n",
        "           scatter_kws={\"s\": 50}, # marker size\n",
        "           hue=\"label\") # color"
      ],
      "execution_count": 25,
      "outputs": [
        {
          "output_type": "execute_result",
          "data": {
            "text/plain": [
              "<seaborn.axisgrid.FacetGrid at 0x7f6d56d10cf8>"
            ]
          },
          "metadata": {
            "tags": []
          },
          "execution_count": 25
        },
        {
          "output_type": "display_data",
          "data": {
            "image/png": "[encoded data removed]",
            "text/plain": [
              "<Figure size 432.125x360 with 1 Axes>"
            ]
          },
          "metadata": {
            "tags": [],
            "needs_background": "light"
          }
        }
      ]
    }
  ]
}